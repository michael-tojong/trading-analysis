{
 "cells": [
  {
   "cell_type": "code",
   "execution_count": 1,
   "metadata": {},
   "outputs": [
    {
     "name": "stderr",
     "output_type": "stream",
     "text": [
      "/home/mt/anaconda3/lib/python3.6/site-packages/h5py/__init__.py:36: FutureWarning: Conversion of the second argument of issubdtype from `float` to `np.floating` is deprecated. In future, it will be treated as `np.float64 == np.dtype(float).type`.\n",
      "  from ._conv import register_converters as _register_converters\n",
      "Using TensorFlow backend.\n",
      "/home/mt/anaconda3/lib/python3.6/site-packages/keras/engine/saving.py:304: UserWarning: Error in loading the saved optimizer state. As a result, your model is starting with a freshly initialized optimizer.\n",
      "  warnings.warn('Error in loading the saved optimizer '\n"
     ]
    }
   ],
   "source": [
    "import pandas as pd, numpy as np, datetime as dt\n",
    "from MyModules.features import new_datetime_complete\n",
    "from MyModules.candlePlotting import plot_ticks\n",
    "import http, json\n",
    "\n",
    "def get_oanda_candles(instr, period, start):\n",
    "    conn = http.client.HTTPSConnection(\"api-fxpractice.oanda.com\")\n",
    "    headers = {\"Authorization\": \"Bearer ***REMOVED***\"}\n",
    "    url = \"https://api-fxpractice.oanda.com/v3/instruments/{}/candles?&from={}&granularity={}&alignmentTimezone=America/Los_Angeles\"\\\n",
    "            .format(instr, start, period)\n",
    "    conn.request(\"GET\", url, None, headers)\n",
    "    resp = conn.getresponse()\n",
    "    if resp.status in (201, 200):\n",
    "        return json.loads(resp.read())\n",
    "    else:\n",
    "        raise http.client.HTTPException(\"Error in HTTP request (status: \" + str(resp.status) + \"):\\n\" + str(resp.read()))\n",
    "\n",
    "def get_df_deltas(instr, period):\n",
    "## This function assumes that delta are from after the 2nd-to-last candle, since last hasn't closed yet\n",
    "    df = pd.read_csv(r'Datasets/{} {}.csv'.format(instr, period), parse_dates=[0], index_col=0)\n",
    "    #df = df[(df.Open != df.High) & (df.Open != df.Low) & (df.Open != df.Close)]  # this doesn't work as intended\n",
    "# Get delta candles from last date of df\n",
    "    delta_candles = None\n",
    "    while delta_candles is None:\n",
    "        try:\n",
    "            delta_candles = get_oanda_candles(instr, period, df.index[-1].strftime('%Y-%m-%dT%H:%M:%S.000000000Z'))\n",
    "        except:\n",
    "            pass\n",
    "    delta_candles = pd.DataFrame(delta_candles['candles']).drop(['complete', 'volume'], axis=1)\n",
    "    delta_candles['time'] = pd.to_datetime(delta_candles['time'])\n",
    "    delta_candles = delta_candles.set_index('time')\n",
    "\n",
    "    cols = ('Open', 'High', 'Low', 'Close')\n",
    "    for c in cols:\n",
    "        delta_candles[c] = delta_candles['mid'].apply(lambda r: float(r['{}'.format(c[0].lower())]))\n",
    "    delta_candles = delta_candles.drop('mid', axis=1)\n",
    "\n",
    "    if df.index[-1] == delta_candles.index[0]: df = df.drop(df.index[-1])  # Drop last point of df assuming it's the same date as the first delta candle\n",
    "\n",
    "    delta_candles['Rejection'] = np.nan\n",
    "    df = df.append(delta_candles)\n",
    "    \n",
    "    return df\n",
    "\n",
    "def split_df(instr, period, len_longterm, len_window):\n",
    "    df = get_df_deltas(instr, period)\n",
    "\n",
    "    min_w_lt = max(0, len(df)-(len_longterm+1))\n",
    "    min_w = max(0, len(df)-(len_window+1))\n",
    "    max_w = len(df)-2                          # execute new_datetime on penultimate candle for analysis\n",
    "                                               # to wait til close of the candle to make proper IPDE's\n",
    "    df['Rejection'].iloc[:min_w+1] = np.nan # remove Rejection price on points leading up to df_window\n",
    "    df_longterm = df.iloc[min_w_lt:max_w, :].copy()\n",
    "    df_window = df.iloc[min_w:max_w, :].copy()\n",
    "    df_lastclosed = df.iloc[max_w].copy()\n",
    "    df_last = df.iloc[-1].copy()\n",
    "    \n",
    "    df_window = df_window_cols(df_window)\n",
    "\n",
    "    return df_longterm, df_window, df_lastclosed, df_last\n",
    "\n",
    "def df_window_cols(df_window):\n",
    "    cols = ['Volume', 'Candle Pattern', 'Same-sized Candle Trend Rejection', 'Engulfing Pattern', 'Immediate Trend Direction', 'Rejection',\n",
    "            'Near Short-term Control', 'Near Long-term Control', 'In Excess Above Short-term Value', 'In Excess Below Short-term Value',\n",
    "            'In Excess Above Long-term Value', 'In Excess Below Long-term Value', 'Rejected Short-term Control', 'Rejected Long-term Control',\n",
    "            'Rejected Short-term Upper Limit', 'Rejected Short-term Lower Limit', 'Rejected Long-term Upper Limit', 'Rejected Long-term Lower Limit',\n",
    "            'Near Short-term SR', 'Near Long-term SR', 'Near Sloped SR', 'Rejected Short-term SR line', 'Rejected Long-term SR line',\n",
    "            'Rejected Sloped SR line', 'Long-term Trend Direction', 'In Excess of Long-term Value Area, Trend-following',\n",
    "            'In Excess of Long-term Value Area, Counter-trend', 'Rejected Fibo level 236', 'Rejected Fibo level 382', 'Rejected Fibo level 618',\n",
    "            'Closed above previous (green)', 'Close below previous (red)']\n",
    "    for c in cols:\n",
    "        if c != 'Rejection': df_window[c] = np.nan\n",
    "    df_window = df_window[['Open', 'High', 'Low', 'Close'] + cols]\n",
    "    \n",
    "    return df_window"
   ]
  },
  {
   "cell_type": "markdown",
   "metadata": {},
   "source": [
    "### Default ratios"
   ]
  },
  {
   "cell_type": "code",
   "execution_count": 2,
   "metadata": {},
   "outputs": [
    {
     "name": "stdout",
     "output_type": "stream",
     "text": [
      "EUR_USD D\n"
     ]
    }
   ],
   "source": [
    "cur = 'EUR_USD'\n",
    "time = 'D'\n",
    "\n",
    "print(cur, time)\n",
    "df_longterm, df_window, df_lastclosed, df_last = split_df(cur, time, len_longterm=550, len_window=120)\n",
    "\n",
    "# FIND SUITABLE TOL\n",
    "# same_sized_candle_trend_rejection - 1.25\n",
    "# avg_sr_lines - 0.0020  long term\n",
    "#                0.0015  short term\n",
    "# get_sloped_SRlines - 0.00175\n",
    "# new_datetime_complete - 0.0008"
   ]
  },
  {
   "cell_type": "code",
   "execution_count": 4,
   "metadata": {},
   "outputs": [
    {
     "name": "stdout",
     "output_type": "stream",
     "text": [
      "1.19525 1.13414\n"
     ]
    }
   ],
   "source": [
    "maxi = max(df_window.Close) if max(df_window.Close) > max(df_window.Open) else max(df_window.Open)\n",
    "mini = min(df_window.Close) if min(df_window.Close) < min(df_window.Open) else min(df_window.Open)\n",
    "print(maxi, mini)"
   ]
  },
  {
   "cell_type": "code",
   "execution_count": 5,
   "metadata": {},
   "outputs": [
    {
     "data": {
      "text/plain": [
       "0.06111"
      ]
     },
     "execution_count": 5,
     "metadata": {},
     "output_type": "execute_result"
    }
   ],
   "source": [
    "maxi - mini"
   ]
  },
  {
   "cell_type": "markdown",
   "metadata": {},
   "source": [
    "### Ratio for Monthly"
   ]
  },
  {
   "cell_type": "code",
   "execution_count": 44,
   "metadata": {},
   "outputs": [
    {
     "name": "stdout",
     "output_type": "stream",
     "text": [
      "same_sized_candle_trend_rejection \n",
      "9.289805269186711\n",
      "\n",
      "avg_sr_lines long term \n",
      "0.014863688430698737\n",
      "\n",
      "avg_sr_lines short term \n",
      "0.011147766323024054\n",
      "\n",
      "get_sloped_SRlines \n",
      "0.013005727376861394\n",
      "\n",
      "new_datetime_complete \n",
      "0.005945475372279495\n",
      "\n"
     ]
    }
   ],
   "source": [
    "print('same_sized_candle_trend_rejection ', 1.25 * 7.4318442153493685, sep='\\n', end='\\n\\n')\n",
    "print('avg_sr_lines long term ', 0.0020 * 7.4318442153493685, sep='\\n', end='\\n\\n')\n",
    "print('avg_sr_lines short term ', 0.0015 * 7.4318442153493685, sep='\\n', end='\\n\\n')\n",
    "print('get_sloped_SRlines ', 0.00175 * 7.4318442153493685, sep='\\n', end='\\n\\n')\n",
    "print('new_datetime_complete ', 0.0008 * 7.4318442153493685, sep='\\n', end='\\n\\n')"
   ]
  },
  {
   "cell_type": "markdown",
   "metadata": {},
   "source": [
    "### Ratio for Weekly"
   ]
  },
  {
   "cell_type": "code",
   "execution_count": 45,
   "metadata": {},
   "outputs": [
    {
     "name": "stdout",
     "output_type": "stream",
     "text": [
      "same_sized_candle_trend_rejection \n",
      "4.1228931435117\n",
      "\n",
      "avg_sr_lines long term \n",
      "0.0065966290296187195\n",
      "\n",
      "avg_sr_lines short term \n",
      "0.004947471772214039\n",
      "\n",
      "get_sloped_SRlines \n",
      "0.005772050400916379\n",
      "\n",
      "new_datetime_complete \n",
      "0.0026386516118474877\n",
      "\n"
     ]
    }
   ],
   "source": [
    "print('same_sized_candle_trend_rejection ', 1.25 * r, sep='\\n', end='\\n\\n')\n",
    "print('avg_sr_lines long term ', 0.0020 * r, sep='\\n', end='\\n\\n')\n",
    "print('avg_sr_lines short term ', 0.0015 * r, sep='\\n', end='\\n\\n')\n",
    "print('get_sloped_SRlines ', 0.00175 * r, sep='\\n', end='\\n\\n')\n",
    "print('new_datetime_complete ', 0.0008 * r, sep='\\n', end='\\n\\n')"
   ]
  },
  {
   "cell_type": "markdown",
   "metadata": {},
   "source": [
    "### Ratio for 4-Hourly:  _Keep the same as such as the Daily's_"
   ]
  },
  {
   "cell_type": "code",
   "execution_count": null,
   "metadata": {},
   "outputs": [],
   "source": [
    "cur = 'EUR_USD'\n",
    "time = 'H4'\n",
    "\n",
    "print(cur, time)\n",
    "df_longterm, df_window, df_lastclosed, df_last = split_df(cur, time, len_longterm=550, len_window=120)"
   ]
  },
  {
   "cell_type": "code",
   "execution_count": null,
   "metadata": {},
   "outputs": [],
   "source": [
    "maxi = max(df_window.Close) if max(df_window.Close) > max(df_window.Open) else max(df_window.Open)\n",
    "mini = min(df_window.Close) if min(df_window.Close) < min(df_window.Open) else min(df_window.Open)\n",
    "print(maxi, mini)"
   ]
  },
  {
   "cell_type": "code",
   "execution_count": null,
   "metadata": {},
   "outputs": [],
   "source": [
    "print(maxi - mini)\n",
    "r = (maxi - mini) / 0.06111\n",
    "print(r)"
   ]
  },
  {
   "cell_type": "code",
   "execution_count": null,
   "metadata": {},
   "outputs": [],
   "source": [
    "print('same_sized_candle_trend_rejection ', 1.25 * r, sep='\\n', end='\\n\\n')\n",
    "print('avg_sr_lines long term ', 0.0020 * r, sep='\\n', end='\\n\\n')\n",
    "print('avg_sr_lines short term ', 0.0015 * r, sep='\\n', end='\\n\\n')\n",
    "print('get_sloped_SRlines ', 0.00175 * r, sep='\\n', end='\\n\\n')\n",
    "print('new_datetime_complete ', 0.0008 * r, sep='\\n', end='\\n\\n')"
   ]
  }
 ],
 "metadata": {
  "kernelspec": {
   "display_name": "Python 3",
   "language": "python",
   "name": "python3"
  },
  "language_info": {
   "codemirror_mode": {
    "name": "ipython",
    "version": 3
   },
   "file_extension": ".py",
   "mimetype": "text/x-python",
   "name": "python",
   "nbconvert_exporter": "python",
   "pygments_lexer": "ipython3",
   "version": "3.6.6"
  }
 },
 "nbformat": 4,
 "nbformat_minor": 2
}
