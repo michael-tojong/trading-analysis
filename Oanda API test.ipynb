{
 "cells": [
  {
   "cell_type": "code",
   "execution_count": 1,
   "metadata": {},
   "outputs": [],
   "source": [
    "import http\n",
    "import json"
   ]
  },
  {
   "cell_type": "code",
   "execution_count": 8,
   "metadata": {},
   "outputs": [
    {
     "data": {
      "text/plain": [
       "{'candles': [{'complete': True,\n",
       "   'mid': {'c': '1.16220', 'h': '1.16402', 'l': '1.15346', 'o': '1.15375'},\n",
       "   'time': '2018-08-23T21:00:00.000000000Z',\n",
       "   'volume': 52689},\n",
       "  {'complete': True,\n",
       "   'mid': {'c': '1.16783', 'h': '1.16940', 'l': '1.15947', 'o': '1.16154'},\n",
       "   'time': '2018-08-26T21:00:00.000000000Z',\n",
       "   'volume': 41573},\n",
       "  {'complete': True,\n",
       "   'mid': {'c': '1.16948', 'h': '1.17337', 'l': '1.16623', 'o': '1.16790'},\n",
       "   'time': '2018-08-27T21:00:00.000000000Z',\n",
       "   'volume': 46904},\n",
       "  {'complete': True,\n",
       "   'mid': {'c': '1.17074', 'h': '1.17098', 'l': '1.16521', 'o': '1.16960'},\n",
       "   'time': '2018-08-28T21:00:00.000000000Z',\n",
       "   'volume': 52113},\n",
       "  {'complete': True,\n",
       "   'mid': {'c': '1.16682', 'h': '1.17185', 'l': '1.16416', 'o': '1.17060'},\n",
       "   'time': '2018-08-29T21:00:00.000000000Z',\n",
       "   'volume': 51517},\n",
       "  {'complete': False,\n",
       "   'mid': {'c': '1.16019', 'h': '1.16912', 'l': '1.15844', 'o': '1.16666'},\n",
       "   'time': '2018-08-30T21:00:00.000000000Z',\n",
       "   'volume': 64060}],\n",
       " 'granularity': 'D',\n",
       " 'instrument': 'EUR_USD'}"
      ]
     },
     "execution_count": 8,
     "metadata": {},
     "output_type": "execute_result"
    }
   ],
   "source": [
    "def get_oanda_candles(method, url, body=None):\n",
    "    conn = http.client.HTTPSConnection(\"api-fxpractice.oanda.com\")\n",
    "    headers = {\"Authorization\": \"Bearer ***REMOVED***\"}\n",
    "    conn.request(method, url, body, headers)\n",
    "    resp = conn.getresponse()\n",
    "    if resp.status in (201, 200):\n",
    "        return json.loads(resp.read())\n",
    "    else:\n",
    "        raise http.client.HTTPException(\"Error in HTTP request (status: \" + str(resp.status) + \"):\\n\" + str(resp.read()))\n",
    "        \n",
    "test = sandbox_request(\"GET\", \"https://api-fxpractice.oanda.com/v3/instruments/EUR_USD/candles?count=6&granularity=D\")\n",
    "test"
   ]
  }
 ],
 "metadata": {
  "kernelspec": {
   "display_name": "Python 3",
   "language": "python",
   "name": "python3"
  },
  "language_info": {
   "codemirror_mode": {
    "name": "ipython",
    "version": 3
   },
   "file_extension": ".py",
   "mimetype": "text/x-python",
   "name": "python",
   "nbconvert_exporter": "python",
   "pygments_lexer": "ipython3",
   "version": "3.6.4"
  }
 },
 "nbformat": 4,
 "nbformat_minor": 2
}
